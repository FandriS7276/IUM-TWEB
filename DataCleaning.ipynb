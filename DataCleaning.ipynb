{
 "cells": [
  {
   "metadata": {},
   "cell_type": "markdown",
   "source": "# Data Cleaning",
   "id": "86a598cb525ceb4d"
  },
  {
   "metadata": {
    "collapsed": true,
    "ExecuteTime": {
     "end_time": "2025-07-17T13:57:54.038188Z",
     "start_time": "2025-07-17T13:57:50.548598Z"
    }
   },
   "cell_type": "code",
   "source": [
    "import pandas as pd\n",
    "\n",
    "actor_df = pd.read_csv('actors.csv')\n",
    "actor_cleaned = actor_df[(actor_df['role'].notnull()) & (actor_df['role'] != '')]"
   ],
   "id": "initial_id",
   "outputs": [],
   "execution_count": 6
  },
  {
   "metadata": {
    "ExecuteTime": {
     "end_time": "2025-07-17T14:04:36.574841Z",
     "start_time": "2025-07-17T14:04:30.416866Z"
    }
   },
   "cell_type": "code",
   "source": [
    "import pandas as pd\n",
    "\n",
    "actor_df = pd.read_csv('actors.csv')\n",
    "actors_cleaned = actor_df[(actor_df['role'].notnull()) & (actor_df['role'] != '')]\n",
    "actors_cleaned = actors_cleaned.drop_duplicates() #remove duplicates\n",
    "actors_cleaned.to_csv('actors_cleaned.csv', index=False)\n",
    "actors_cleaned"
   ],
   "id": "d829589f85330dd5",
   "outputs": [
    {
     "data": {
      "text/plain": [
       "              id               name                 role\n",
       "0        1000001      Margot Robbie               Barbie\n",
       "1        1000001       Ryan Gosling                  Ken\n",
       "2        1000001    America Ferrera               Gloria\n",
       "3        1000001  Ariana Greenblatt                Sasha\n",
       "4        1000001           Issa Rae               Barbie\n",
       "...          ...                ...                  ...\n",
       "5798442  1941596        Nick Cheung         Zhang Yao/张耀\n",
       "5798443  1941596         Ethan Juan             An Du/安渡\n",
       "5798445  1941596            Marc Ma            Ba Cai/巴莱\n",
       "5798446  1941596                线雨轩              Tata/塔塔\n",
       "5798447  1941596       Jiang Yixuan  Zuo Yila（Zoila）/佐伊拉\n",
       "\n",
       "[4436381 rows x 3 columns]"
      ],
      "text/html": [
       "<div>\n",
       "<style scoped>\n",
       "    .dataframe tbody tr th:only-of-type {\n",
       "        vertical-align: middle;\n",
       "    }\n",
       "\n",
       "    .dataframe tbody tr th {\n",
       "        vertical-align: top;\n",
       "    }\n",
       "\n",
       "    .dataframe thead th {\n",
       "        text-align: right;\n",
       "    }\n",
       "</style>\n",
       "<table border=\"1\" class=\"dataframe\">\n",
       "  <thead>\n",
       "    <tr style=\"text-align: right;\">\n",
       "      <th></th>\n",
       "      <th>id</th>\n",
       "      <th>name</th>\n",
       "      <th>role</th>\n",
       "    </tr>\n",
       "  </thead>\n",
       "  <tbody>\n",
       "    <tr>\n",
       "      <th>0</th>\n",
       "      <td>1000001</td>\n",
       "      <td>Margot Robbie</td>\n",
       "      <td>Barbie</td>\n",
       "    </tr>\n",
       "    <tr>\n",
       "      <th>1</th>\n",
       "      <td>1000001</td>\n",
       "      <td>Ryan Gosling</td>\n",
       "      <td>Ken</td>\n",
       "    </tr>\n",
       "    <tr>\n",
       "      <th>2</th>\n",
       "      <td>1000001</td>\n",
       "      <td>America Ferrera</td>\n",
       "      <td>Gloria</td>\n",
       "    </tr>\n",
       "    <tr>\n",
       "      <th>3</th>\n",
       "      <td>1000001</td>\n",
       "      <td>Ariana Greenblatt</td>\n",
       "      <td>Sasha</td>\n",
       "    </tr>\n",
       "    <tr>\n",
       "      <th>4</th>\n",
       "      <td>1000001</td>\n",
       "      <td>Issa Rae</td>\n",
       "      <td>Barbie</td>\n",
       "    </tr>\n",
       "    <tr>\n",
       "      <th>...</th>\n",
       "      <td>...</td>\n",
       "      <td>...</td>\n",
       "      <td>...</td>\n",
       "    </tr>\n",
       "    <tr>\n",
       "      <th>5798442</th>\n",
       "      <td>1941596</td>\n",
       "      <td>Nick Cheung</td>\n",
       "      <td>Zhang Yao/张耀</td>\n",
       "    </tr>\n",
       "    <tr>\n",
       "      <th>5798443</th>\n",
       "      <td>1941596</td>\n",
       "      <td>Ethan Juan</td>\n",
       "      <td>An Du/安渡</td>\n",
       "    </tr>\n",
       "    <tr>\n",
       "      <th>5798445</th>\n",
       "      <td>1941596</td>\n",
       "      <td>Marc Ma</td>\n",
       "      <td>Ba Cai/巴莱</td>\n",
       "    </tr>\n",
       "    <tr>\n",
       "      <th>5798446</th>\n",
       "      <td>1941596</td>\n",
       "      <td>线雨轩</td>\n",
       "      <td>Tata/塔塔</td>\n",
       "    </tr>\n",
       "    <tr>\n",
       "      <th>5798447</th>\n",
       "      <td>1941596</td>\n",
       "      <td>Jiang Yixuan</td>\n",
       "      <td>Zuo Yila（Zoila）/佐伊拉</td>\n",
       "    </tr>\n",
       "  </tbody>\n",
       "</table>\n",
       "<p>4436381 rows × 3 columns</p>\n",
       "</div>"
      ]
     },
     "execution_count": 10,
     "metadata": {},
     "output_type": "execute_result"
    }
   ],
   "execution_count": 10
  }
 ],
 "metadata": {
  "kernelspec": {
   "display_name": "Python 3",
   "language": "python",
   "name": "python3"
  },
  "language_info": {
   "codemirror_mode": {
    "name": "ipython",
    "version": 2
   },
   "file_extension": ".py",
   "mimetype": "text/x-python",
   "name": "python",
   "nbconvert_exporter": "python",
   "pygments_lexer": "ipython2",
   "version": "2.7.6"
  }
 },
 "nbformat": 4,
 "nbformat_minor": 5
}
