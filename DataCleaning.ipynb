{
 "cells": [
  {
   "metadata": {},
   "cell_type": "markdown",
   "source": "# Data Cleaning",
   "id": "86a598cb525ceb4d"
  },
  {
   "metadata": {},
   "cell_type": "markdown",
   "source": [
    "## Movies file cleaning\n",
    "### Counting all the movies in the file"
   ],
   "id": "25d0ea12e3ed8e10"
  },
  {
   "metadata": {
    "ExecuteTime": {
     "end_time": "2025-08-26T09:43:19.943503Z",
     "start_time": "2025-08-26T09:43:09.250620Z"
    }
   },
   "cell_type": "code",
   "source": [
    "import pandas as pd\n",
    "\n",
    "movies_df = pd.read_csv('movies.csv')\n",
    "print('Total number of movies before cleaning: ', len(movies_df))"
   ],
   "id": "6dcfc7a0d63a5f3",
   "outputs": [
    {
     "name": "stdout",
     "output_type": "stream",
     "text": [
      "Total number of movies before cleaning:  941597\n"
     ]
    }
   ],
   "execution_count": 20
  },
  {
   "metadata": {},
   "cell_type": "markdown",
   "source": "### Cleaning empty name, rating and date columns",
   "id": "5f726300cdaf6e61"
  },
  {
   "metadata": {
    "ExecuteTime": {
     "end_time": "2025-08-26T10:18:19.303400Z",
     "start_time": "2025-08-26T10:18:14.591656Z"
    }
   },
   "cell_type": "code",
   "source": [
    "movies_cleaned=movies_df\n",
    "\n",
    "#remove empty strings or null values from name column\n",
    "movies_cleaned = movies_cleaned.dropna(subset=['name'])\n",
    "print('Cleaning empty name values: ', len(movies_cleaned))\n",
    "\n",
    "#remove empty strings or null values from rating column\n",
    "movies_cleaned = movies_cleaned.dropna(subset=['rating'])\n",
    "print('Cleaning empty rating values:', len(movies_cleaned))\n",
    "\n",
    "#remove empty strings or null values from date column\n",
    "movies_cleaned = movies_cleaned.dropna(subset=['date'])\n",
    "print('Cleaning empty date values:', len(movies_cleaned))"
   ],
   "id": "681e02f4eeca6879",
   "outputs": [
    {
     "name": "stdout",
     "output_type": "stream",
     "text": [
      "Cleaning empty name values:  941587\n",
      "Cleaning empty rating values: 90999\n",
      "Cleaning empty date values: 90999\n"
     ]
    }
   ],
   "execution_count": 29
  },
  {
   "metadata": {},
   "cell_type": "markdown",
   "source": "### Cleaning rows with duplicate IDs",
   "id": "cf3cc7bc951a8e97"
  },
  {
   "metadata": {
    "ExecuteTime": {
     "end_time": "2025-08-26T09:43:21.282623Z",
     "start_time": "2025-08-26T09:43:20.414551Z"
    }
   },
   "cell_type": "code",
   "source": [
    "#drop duplicate rows with the same id, maintaining the first one\n",
    "movies_cleaned = movies_cleaned.drop_duplicates(subset=['id'], keep='first')\n",
    "print('Cleaning duplicate movies: ', len(movies_cleaned),'\\n')\n",
    "\n",
    "#increasing display width to fit all the columns\n",
    "pd.set_option(\"display.width\", 140)\n",
    "print('Displaying the cleaned data frame:')\n",
    "\n",
    "#Displaying shortened columns for the sake of visibility: name, tagline and description have been shortened to 4 words\n",
    "print(movies_cleaned.assign(tagline=movies_cleaned[\"tagline\"].apply(lambda x: \" \".join(str(x).split()[:4])), description=movies_cleaned[\"description\"].apply(lambda x: \" \".join(str(x).split()[:4])), name=movies_cleaned[\"name\"].apply(lambda x: \" \".join(str(x).split()[:4]))).head().to_string(index=False, col_space=10))"
   ],
   "id": "56c7660c6988e20d",
   "outputs": [
    {
     "name": "stdout",
     "output_type": "stream",
     "text": [
      "Cleaning duplicate movies:  90999 \n",
      "\n",
      "Displaying the cleaned data frame:\n",
      "        id                         name       date                     tagline                       description     minute     rating\n",
      "   1000001                       Barbie     2023.0 She's everything. He's just                Barbie and Ken are      114.0       3.86\n",
      "   1000002                     Parasite     2019.0            Act like you own  All unemployed, Ki-taek's family      133.0       4.56\n",
      "   1000003 Everything Everywhere All at     2022.0          The universe is so        An aging Chinese immigrant      140.0       4.30\n",
      "   1000004                   Fight Club     1999.0     Mischief. Mayhem. Soap. A ticking-time-bomb insomniac and      139.0       4.27\n",
      "   1000005                   La La Land     2016.0         Here's to the fools         Mia, an aspiring actress,      129.0       4.09\n"
     ]
    }
   ],
   "execution_count": 22
  },
  {
   "metadata": {},
   "cell_type": "markdown",
   "source": "### Checking data types in the data frame",
   "id": "bbb871b44630ab11"
  },
  {
   "metadata": {
    "ExecuteTime": {
     "end_time": "2025-08-26T09:43:21.391610Z",
     "start_time": "2025-08-26T09:43:21.364361Z"
    }
   },
   "cell_type": "code",
   "source": "print(movies_cleaned.dtypes)",
   "id": "18ab8f465f81ee63",
   "outputs": [
    {
     "name": "stdout",
     "output_type": "stream",
     "text": [
      "id               int64\n",
      "name            object\n",
      "date           float64\n",
      "tagline         object\n",
      "description     object\n",
      "minute         float64\n",
      "rating         float64\n",
      "dtype: object\n"
     ]
    }
   ],
   "execution_count": 23
  },
  {
   "metadata": {},
   "cell_type": "markdown",
   "source": "### Casting date and minute to avoid the decimal numbers",
   "id": "12569b90d1989473"
  },
  {
   "metadata": {
    "ExecuteTime": {
     "end_time": "2025-08-26T09:43:23.763916Z",
     "start_time": "2025-08-26T09:43:21.475250Z"
    }
   },
   "cell_type": "code",
   "source": [
    "#casting to integer to avoid showing decimal numbers\n",
    "movies_cleaned['date']=movies_cleaned['date'].astype('Int64')\n",
    "\n",
    "#casting to integer to avoid showing decimal numbers\n",
    "movies_cleaned['minute']=movies_cleaned['minute'].astype('Int64')\n",
    "\n",
    "#shortened display\n",
    "print(movies_cleaned.assign(tagline=movies_cleaned[\"tagline\"].apply(lambda x: \" \".join(str(x).split()[:4])), description=movies_cleaned[\"description\"].apply(lambda x: \" \".join(str(x).split()[:4])), name=movies_cleaned[\"name\"].apply(lambda x: \" \".join(str(x).split()[:4]))).head().to_string(index=False, col_space=10))\n",
    "\n",
    "#generating a new CSV to use during the data analysis\n",
    "movies_cleaned.to_csv('movies_cleaned.csv', index=False)"
   ],
   "id": "3a78b2818f5b8c87",
   "outputs": [
    {
     "name": "stdout",
     "output_type": "stream",
     "text": [
      "        id                         name       date                     tagline                       description     minute     rating\n",
      "   1000001                       Barbie       2023 She's everything. He's just                Barbie and Ken are        114       3.86\n",
      "   1000002                     Parasite       2019            Act like you own  All unemployed, Ki-taek's family        133       4.56\n",
      "   1000003 Everything Everywhere All at       2022          The universe is so        An aging Chinese immigrant        140       4.30\n",
      "   1000004                   Fight Club       1999     Mischief. Mayhem. Soap. A ticking-time-bomb insomniac and        139       4.27\n",
      "   1000005                   La La Land       2016         Here's to the fools         Mia, an aspiring actress,        129       4.09\n"
     ]
    }
   ],
   "execution_count": 24
  },
  {
   "metadata": {},
   "cell_type": "markdown",
   "source": [
    "## Genre file cleaning\n",
    "### Counting all the genres present for each existing movie"
   ],
   "id": "41da4c8e82096796"
  },
  {
   "metadata": {
    "ExecuteTime": {
     "end_time": "2025-08-26T09:43:24.364369Z",
     "start_time": "2025-08-26T09:43:23.798668Z"
    }
   },
   "cell_type": "code",
   "source": [
    "genres_df = pd.read_csv('genres.csv')\n",
    "print('Total number of genres for all present movies before cleaning: ', len(genres_df))"
   ],
   "id": "4b435297dedb612b",
   "outputs": [
    {
     "name": "stdout",
     "output_type": "stream",
     "text": [
      "Total number of genres for all present movies before cleaning:  1046849\n"
     ]
    }
   ],
   "execution_count": 25
  },
  {
   "metadata": {},
   "cell_type": "markdown",
   "source": "### Cleaning empty id or genre columns",
   "id": "6c97c876261521a8"
  },
  {
   "metadata": {
    "ExecuteTime": {
     "end_time": "2025-08-26T09:43:24.601819Z",
     "start_time": "2025-08-26T09:43:24.415520Z"
    }
   },
   "cell_type": "code",
   "source": [
    "genres_cleaned=genres_df.dropna(subset=['genre','id'])\n",
    "print(\"Cleaning any empty column: \",len(genres_cleaned))"
   ],
   "id": "df35a96ffe7b50b3",
   "outputs": [
    {
     "name": "stdout",
     "output_type": "stream",
     "text": [
      "Cleaning any empty column:  1046849\n"
     ]
    }
   ],
   "execution_count": 26
  },
  {
   "metadata": {},
   "cell_type": "markdown",
   "source": "### Removing rows where the same ID has the same genre multiple times",
   "id": "81aeb0889cf7d40f"
  },
  {
   "metadata": {
    "ExecuteTime": {
     "end_time": "2025-08-26T09:43:26.456325Z",
     "start_time": "2025-08-26T09:43:24.654550Z"
    }
   },
   "cell_type": "code",
   "source": [
    "genres_cleaned = genres_cleaned.drop_duplicates(subset=['id','genre'], keep='first')\n",
    "print(\"Dropping duplicate genres for the same id: \",len(genres_cleaned),\"\\n\")\n",
    "print(\"Displaying the cleaned data frame:\")\n",
    "print(genres_cleaned.head().to_string(index=False, col_space=10))\n",
    "genres_cleaned.to_csv('genres_cleaned.csv', index=False)"
   ],
   "id": "5927b946a9784b6",
   "outputs": [
    {
     "name": "stdout",
     "output_type": "stream",
     "text": [
      "Dropping duplicate genres for the same id:  1046849 \n",
      "\n",
      "Displaying the cleaned data frame:\n",
      "        id      genre\n",
      "   1000001     Comedy\n",
      "   1000001  Adventure\n",
      "   1000002     Comedy\n",
      "   1000002   Thriller\n",
      "   1000002      Drama\n"
     ]
    }
   ],
   "execution_count": 27
  },
  {
   "metadata": {},
   "cell_type": "markdown",
   "source": [
    "## Actor file cleaning\n",
    "### Removing duplicate rows and empty roles and previewing data"
   ],
   "id": "69497720834097ee"
  },
  {
   "metadata": {
    "ExecuteTime": {
     "end_time": "2025-08-26T09:44:01.378493Z",
     "start_time": "2025-08-26T09:43:26.495134Z"
    }
   },
   "cell_type": "code",
   "source": [
    "actor_df = pd.read_csv('actors.csv')\n",
    "actors_cleaned = actor_df[(actor_df['role'].notna()) & (actor_df['role'] != '')] #remove empty strings or null values from role column\n",
    "actors_cleaned = actors_cleaned.drop_duplicates() #remove duplicate rows\n",
    "print('Data type of actors')\n",
    "print(actors_cleaned.dtypes,'\\n') #preview of the data types of each column\n",
    "print('Data preview of actors')\n",
    "print(actors_cleaned.head().to_string(index=False, col_space=10)) #preview of the data file\n",
    "actors_cleaned.to_csv('actors_cleaned.csv', index=False) #generating a new CSV to use during the data analysis"
   ],
   "id": "d829589f85330dd5",
   "outputs": [
    {
     "name": "stdout",
     "output_type": "stream",
     "text": [
      "Data type of actors\n",
      "id       int64\n",
      "name    object\n",
      "role    object\n",
      "dtype: object \n",
      "\n",
      "Data preview of actors\n",
      "        id              name       role\n",
      "   1000001     Margot Robbie     Barbie\n",
      "   1000001      Ryan Gosling        Ken\n",
      "   1000001   America Ferrera     Gloria\n",
      "   1000001 Ariana Greenblatt      Sasha\n",
      "   1000001          Issa Rae     Barbie\n"
     ]
    }
   ],
   "execution_count": 28
  }
 ],
 "metadata": {
  "kernelspec": {
   "display_name": "Python 3",
   "language": "python",
   "name": "python3"
  },
  "language_info": {
   "codemirror_mode": {
    "name": "ipython",
    "version": 2
   },
   "file_extension": ".py",
   "mimetype": "text/x-python",
   "name": "python",
   "nbconvert_exporter": "python",
   "pygments_lexer": "ipython2",
   "version": "2.7.6"
  }
 },
 "nbformat": 4,
 "nbformat_minor": 5
}
